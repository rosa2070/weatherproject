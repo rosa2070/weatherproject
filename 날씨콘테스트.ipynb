{
 "cells": [
  {
   "cell_type": "markdown",
   "id": "160943fd-5631-4b16-a916-0f0216a86871",
   "metadata": {},
   "source": [
    "독립변수"
   ]
  },
  {
   "cell_type": "markdown",
   "id": "3bb664d7-68a9-4545-8faf-ae4ead768595",
   "metadata": {},
   "source": [
    "일조량 : 태양 광선이 구름이나 안개에 가려지지 않고 실제로 지면에 도달하는 양"
   ]
  },
  {
   "cell_type": "markdown",
   "id": "0c41690d-ae96-4cc2-a429-b763955c4093",
   "metadata": {},
   "source": [
    "지중온도 : 지표면 밑 토양의 온도 "
   ]
  },
  {
   "cell_type": "markdown",
   "id": "cc3161ef-7c2f-45bf-bc29-a968c513f86b",
   "metadata": {},
   "source": [
    "위성영상 열 밴드"
   ]
  },
  {
   "cell_type": "markdown",
   "id": "8a2b60ae-4ad6-41a8-910c-76db05333245",
   "metadata": {},
   "source": [
    "# 기상에 따른 계절별 지면온도 산출 기술 개발"
   ]
  },
  {
   "cell_type": "markdown",
   "id": "89134d25-951e-43d7-a7f9-0234e81d37f6",
   "metadata": {},
   "source": [
    "국내 10개 지점의 11개의 기상데이터(시간자료)를 활용하여\n",
    "봄(2월 ~ 4월), 여름(5월 ~ 7월), 가을(8월 ~ 10월), 겨울(11월 ~1월)의 계절별 지면온도 통합 산출 모델 개발"
   ]
  },
  {
   "cell_type": "markdown",
   "id": "543d2ba2-787e-48a0-8208-136c9fec9592",
   "metadata": {},
   "source": [
    "학습 데이터 : 특정 10개 지점의 총 5년간, A년 2월 ~ E월 1일(5년 동안의 기상데이터 + 지면온도)"
   ]
  },
  {
   "cell_type": "markdown",
   "id": "6c4a2827-13c9-415c-9d3b-6b673e6db680",
   "metadata": {},
   "source": [
    "검증 데이터 : 특정 3개 F년 2월 ~ G년 1월의 1년 자료(1년 동안 특정 3지점의 기상데이터)"
   ]
  },
  {
   "cell_type": "markdown",
   "id": "4d191f0e-b26b-400b-b081-f02230ad620d",
   "metadata": {},
   "source": [
    "![nn](날씨.png)"
   ]
  },
  {
   "cell_type": "markdown",
   "id": "d45ad113-2c94-404d-b3fc-0225186117d9",
   "metadata": {},
   "source": [
    "10개 지점의 5년간 11개 기상요소의 데이터를 전부 혹은 일부 사용하여\n",
    "계절별 1개의 통합 산출 모델 개발"
   ]
  },
  {
   "cell_type": "markdown",
   "id": "328684f0-72e0-48c6-9b26-57e206a30df7",
   "metadata": {},
   "source": [
    "검증 시에는 특정 3개 지점의 지면온도를 제외한 10개 기상요소의 1년 데이터를 제공하며,\n",
    "계절별 통합 산출모델을 적용하여 예측값 도출하기"
   ]
  },
  {
   "cell_type": "markdown",
   "id": "cf48dfa2-9937-49e4-9354-5512dce9b387",
   "metadata": {},
   "source": [
    "특정 3개 지점의 산출값과 지면온도 참값의 오차(MAE)를 평균하여 순위가 결정됨"
   ]
  },
  {
   "cell_type": "markdown",
   "id": "5a03b8f5-c2ac-412a-ad9e-a1156e840807",
   "metadata": {},
   "source": [
    "# 과제 이해 높이기"
   ]
  },
  {
   "cell_type": "markdown",
   "id": "a6b2c773-ba0a-43fd-8d7c-a2e0227cdb4b",
   "metadata": {},
   "source": [
    "현재 기상청에서는 기온관측 지점에 비해 지면온도 관측 지점 수가 훨씬 적어 \n",
    "기상자료를 활용한 지면온도 산출 기술이 개발된다면 관측공백 지역의 지면 온도값을 추정할 수 있을 것으로 생각된다"
   ]
  },
  {
   "cell_type": "markdown",
   "id": "edcb05ea-de92-469a-b659-e0533a4421f6",
   "metadata": {},
   "source": [
    "![nn](test.png)"
   ]
  },
  {
   "cell_type": "markdown",
   "id": "9daddaac-52b6-4e50-9809-8c1f7042767d",
   "metadata": {},
   "source": [
    "지면온도\n",
    "\n",
    "- 지표면 부근에서의 온도로 시각과 계절 차이뿐만 아니라 지표면의 상태에 따라 현저히 다르게 나타날 수 있음"
   ]
  },
  {
   "cell_type": "markdown",
   "id": "c942401a-57d6-4fff-8898-478598f2f46e",
   "metadata": {
    "tags": []
   },
   "source": [
    "## 기상데이터(11개)"
   ]
  },
  {
   "cell_type": "markdown",
   "id": "58470603-7823-4c91-954c-7282a199e594",
   "metadata": {},
   "source": [
    "![nn](weatherd.png)"
   ]
  },
  {
   "cell_type": "markdown",
   "id": "5af6edf5-e2cb-43c0-9a61-61c791b75548",
   "metadata": {},
   "source": [
    "![nn](weatherd2.png)"
   ]
  },
  {
   "cell_type": "markdown",
   "id": "e2ae283a-4525-444f-945c-1bb444471d96",
   "metadata": {},
   "source": [
    "지면온도 포함"
   ]
  },
  {
   "cell_type": "markdown",
   "id": "31d980dd-3312-40e2-87ad-b43d9f472f25",
   "metadata": {},
   "source": [
    "각 기상데이터는 그 특징에 따라 1시간 평균 또는 1시간 누적으로 제공됨"
   ]
  },
  {
   "cell_type": "markdown",
   "id": "5aeb4c73-64d6-4697-bcbe-2db6e094d9fa",
   "metadata": {},
   "source": [
    "![nn](wea.png)"
   ]
  },
  {
   "cell_type": "markdown",
   "id": "1abab252-be0e-4601-a219-e56c6320204d",
   "metadata": {},
   "source": [
    "해당 표에는 기상데이터 외에 년도, 월/일/시간, 지점번호 데이터가 포함되어 있으며\n",
    "년도와 지점번호는 다른값으로 대체하여 제공함"
   ]
  },
  {
   "cell_type": "markdown",
   "id": "938a3f98-1588-4371-baeb-ae1b43417c6f",
   "metadata": {},
   "source": [
    "기상데이터 : 1시간 혹은 1시간 누적값으로 제공"
   ]
  },
  {
   "cell_type": "code",
   "execution_count": null,
   "id": "be825a03-883f-48bc-a54c-4ba6c7a880b5",
   "metadata": {},
   "outputs": [],
   "source": []
  }
 ],
 "metadata": {
  "kernelspec": {
   "display_name": "Python 3 (ipykernel)",
   "language": "python",
   "name": "python3"
  },
  "language_info": {
   "codemirror_mode": {
    "name": "ipython",
    "version": 3
   },
   "file_extension": ".py",
   "mimetype": "text/x-python",
   "name": "python",
   "nbconvert_exporter": "python",
   "pygments_lexer": "ipython3",
   "version": "3.10.9"
  }
 },
 "nbformat": 4,
 "nbformat_minor": 5
}
